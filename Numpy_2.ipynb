{
 "cells": [
  {
   "cell_type": "code",
   "execution_count": 2,
   "id": "0dcc3df9-891b-4acc-a0a3-6c03454e7fb2",
   "metadata": {},
   "outputs": [
    {
     "data": {
      "text/plain": [
       "array([1, 2, 3])"
      ]
     },
     "execution_count": 2,
     "metadata": {},
     "output_type": "execute_result"
    }
   ],
   "source": [
    "import numpy as np\n",
    "a=[1,2,3]\n",
    "myarr=np.array(a)\n",
    "myarr"
   ]
  },
  {
   "cell_type": "code",
   "execution_count": 3,
   "id": "22ec4980-94ef-4938-9b82-d789f462e923",
   "metadata": {},
   "outputs": [
    {
     "name": "stdout",
     "output_type": "stream",
     "text": [
      "enter size of the array 1\n",
      "enter number 1\n"
     ]
    },
    {
     "name": "stdout",
     "output_type": "stream",
     "text": [
      "1\n",
      "2\n",
      "3\n",
      "1\n"
     ]
    },
    {
     "data": {
      "text/plain": [
       "array([3, 1])"
      ]
     },
     "execution_count": 3,
     "metadata": {},
     "output_type": "execute_result"
    }
   ],
   "source": [
    "\n",
    "n=int (input(\"enter size of the array\"))\n",
    "for i in range (n):\n",
    "    val=int (input(\"enter number\"))\n",
    "    a.append(val)\n",
    "myarray=np.array(a)\n",
    "myarray\n",
    "for i in range(myarray.size):\n",
    "    print(myarray[i])\n",
    "arr1=myarray[2:4]  \n",
    "arr1"
   ]
  },
  {
   "cell_type": "code",
   "execution_count": 4,
   "id": "167551e1-7f7b-4752-83e3-dfeb612a1fa6",
   "metadata": {},
   "outputs": [
    {
     "data": {
      "text/plain": [
       "array([[1, 2, 3],\n",
       "       [4, 5, 6],\n",
       "       [7, 8, 9]])"
      ]
     },
     "execution_count": 4,
     "metadata": {},
     "output_type": "execute_result"
    }
   ],
   "source": [
    "a=[[1,2,3],[4,5,6],[7,8,9]]\n",
    "myarr=np.array(a)\n",
    "myarr"
   ]
  },
  {
   "cell_type": "code",
   "execution_count": 5,
   "id": "cbea00e8-124c-411f-a493-7f6018be2f35",
   "metadata": {},
   "outputs": [
    {
     "data": {
      "text/plain": [
       "2"
      ]
     },
     "execution_count": 5,
     "metadata": {},
     "output_type": "execute_result"
    }
   ],
   "source": [
    "b=myarr.ndim\n",
    "b"
   ]
  },
  {
   "cell_type": "code",
   "execution_count": 6,
   "id": "333a25c7-00ef-4e73-98e8-23f4b608b470",
   "metadata": {},
   "outputs": [
    {
     "data": {
      "text/plain": [
       "(3, 3)"
      ]
     },
     "execution_count": 6,
     "metadata": {},
     "output_type": "execute_result"
    }
   ],
   "source": [
    "myarr.shape"
   ]
  },
  {
   "cell_type": "code",
   "execution_count": 7,
   "id": "d8ff869d-4094-46ee-a071-7900c0745d85",
   "metadata": {},
   "outputs": [
    {
     "data": {
      "text/plain": [
       "array([0., 0., 0., 0., 0.])"
      ]
     },
     "execution_count": 7,
     "metadata": {},
     "output_type": "execute_result"
    }
   ],
   "source": [
    "arr=np.zeros(5)\n",
    "arr"
   ]
  },
  {
   "cell_type": "code",
   "execution_count": 8,
   "id": "b3bf0373-0625-4bf2-9bb1-efad1851bffa",
   "metadata": {},
   "outputs": [
    {
     "data": {
      "text/plain": [
       "array([[0., 0., 0.],\n",
       "       [0., 0., 0.]])"
      ]
     },
     "execution_count": 8,
     "metadata": {},
     "output_type": "execute_result"
    }
   ],
   "source": [
    "arr=np.zeros((2,3))\n",
    "arr"
   ]
  },
  {
   "cell_type": "code",
   "execution_count": 9,
   "id": "f11c289b-672b-47ab-99f6-18bb43d98188",
   "metadata": {},
   "outputs": [
    {
     "data": {
      "text/plain": [
       "array([[1., 0., 0.],\n",
       "       [0., 1., 0.],\n",
       "       [0., 0., 1.]])"
      ]
     },
     "execution_count": 9,
     "metadata": {},
     "output_type": "execute_result"
    }
   ],
   "source": [
    "arr=np.eye(3)\n",
    "arr"
   ]
  },
  {
   "cell_type": "code",
   "execution_count": 10,
   "id": "164cd899-c1f4-4b1c-853b-b774848dab8e",
   "metadata": {},
   "outputs": [
    {
     "data": {
      "text/plain": [
       "array([[1., 0., 0., 0.],\n",
       "       [0., 1., 0., 0.],\n",
       "       [0., 0., 1., 0.]])"
      ]
     },
     "execution_count": 10,
     "metadata": {},
     "output_type": "execute_result"
    }
   ],
   "source": [
    "arr=np.eye(3,4)\n",
    "arr"
   ]
  },
  {
   "cell_type": "code",
   "execution_count": 11,
   "id": "e7d9ca40-2ae5-486e-bb5c-1b8dc5baa95d",
   "metadata": {},
   "outputs": [
    {
     "data": {
      "text/plain": [
       "array([[1, 0, 0, 0],\n",
       "       [0, 5, 0, 0],\n",
       "       [0, 0, 3, 0],\n",
       "       [0, 0, 0, 7]])"
      ]
     },
     "execution_count": 11,
     "metadata": {},
     "output_type": "execute_result"
    }
   ],
   "source": [
    "arr=np.diag([1,5,3,7])\n",
    "arr"
   ]
  },
  {
   "cell_type": "code",
   "execution_count": 12,
   "id": "1a9a7a47-e19e-4e89-9dff-d8ccc7d80df9",
   "metadata": {},
   "outputs": [
    {
     "name": "stdout",
     "output_type": "stream",
     "text": [
      "(12,) 1\n",
      "[[19 34 29 25]\n",
      " [42 23 41 37]\n",
      " [46 37 28 47]]\n",
      "2\n"
     ]
    }
   ],
   "source": [
    "arr=np.random.randint(1,50,12)\n",
    "print(arr.shape,arr.ndim)\n",
    "arr=arr.reshape(3,4)\n",
    "print(arr)\n",
    "print(arr.ndim)"
   ]
  },
  {
   "cell_type": "code",
   "execution_count": 13,
   "id": "956e61a1-a8c1-4437-9c47-bf820bf11959",
   "metadata": {},
   "outputs": [
    {
     "data": {
      "text/plain": [
       "array([0.81990403, 0.10566829, 0.2657337 , 0.27170333, 0.53222404])"
      ]
     },
     "execution_count": 13,
     "metadata": {},
     "output_type": "execute_result"
    }
   ],
   "source": [
    "arr=np.random.rand(5)\n",
    "arr"
   ]
  },
  {
   "cell_type": "code",
   "execution_count": 14,
   "id": "147e03b8-7647-449b-9416-578f93f48657",
   "metadata": {},
   "outputs": [
    {
     "data": {
      "text/plain": [
       "array([[0.86460904, 0.66187064, 0.86916936],\n",
       "       [0.61066492, 0.87289461, 0.40476763]])"
      ]
     },
     "execution_count": 14,
     "metadata": {},
     "output_type": "execute_result"
    }
   ],
   "source": [
    "arr=np.random.rand(2,3)\n",
    "arr"
   ]
  },
  {
   "cell_type": "code",
   "execution_count": 15,
   "id": "c9e18810-7920-4031-8160-716f7ceb46b1",
   "metadata": {},
   "outputs": [
    {
     "data": {
      "text/plain": [
       "array([1.48409788, 1.3002138 , 2.65448123])"
      ]
     },
     "execution_count": 15,
     "metadata": {},
     "output_type": "execute_result"
    }
   ],
   "source": [
    "\n",
    "arr=np.random.randn(3)\n",
    "arr"
   ]
  },
  {
   "cell_type": "code",
   "execution_count": 16,
   "id": "d116c081-1ac5-45be-a1df-dc250bade420",
   "metadata": {},
   "outputs": [
    {
     "data": {
      "text/plain": [
       "array([11, 74, 85, 80, 81, 63, 26,  2, 76, 78])"
      ]
     },
     "execution_count": 16,
     "metadata": {},
     "output_type": "execute_result"
    }
   ],
   "source": [
    "np.random.seed(6)\n",
    "arr=np.random.randint(1,100,10)\n",
    "arr"
   ]
  },
  {
   "cell_type": "code",
   "execution_count": 17,
   "id": "0c216140-ba19-453c-9581-110dd5653440",
   "metadata": {},
   "outputs": [
    {
     "name": "stdout",
     "output_type": "stream",
     "text": [
      "rows 1\n",
      "col 1\n",
      "value 1\n"
     ]
    },
    {
     "name": "stdout",
     "output_type": "stream",
     "text": [
      "1 \n"
     ]
    }
   ],
   "source": [
    "matrix=[]\n",
    "row=int(input(\"rows\"))\n",
    "col=int(input(\"col\"))\n",
    "for i in range(row):\n",
    "    a=[]\n",
    "    for j in range(col):\n",
    "        val=int(input(\"value\"))\n",
    "        a.append(val)\n",
    "    matrix.append(a)\n",
    "arr=np.array(matrix)    \n",
    "for i in range(row):\n",
    "    for j in range(col):\n",
    "        print(arr[i,j],end=\" \")\n",
    "    print()            \n",
    "                \n",
    "        "
   ]
  },
  {
   "cell_type": "code",
   "execution_count": 18,
   "id": "73d29ea0-d76a-40c2-9822-6c698db43574",
   "metadata": {},
   "outputs": [
    {
     "data": {
      "text/plain": [
       "array([], shape=(1, 0), dtype=int32)"
      ]
     },
     "execution_count": 18,
     "metadata": {},
     "output_type": "execute_result"
    }
   ],
   "source": [
    "arr[:2,1:]"
   ]
  },
  {
   "cell_type": "code",
   "execution_count": 19,
   "id": "d5d3ea02-6eb1-4cab-8a16-7fc91c78121e",
   "metadata": {},
   "outputs": [
    {
     "data": {
      "text/plain": [
       "array([[410, 192,  81,  92, 338],\n",
       "       [440, 270, 333, 162,  72],\n",
       "       [339, 281, 110,  93, 177],\n",
       "       [254, 417, 302, 237, 126],\n",
       "       [389,  35, 141, 386, 331],\n",
       "       [ 38, 232, 469,  82,  92]])"
      ]
     },
     "execution_count": 19,
     "metadata": {},
     "output_type": "execute_result"
    }
   ],
   "source": [
    "np.random.seed(11)\n",
    "a=np.random.randint(1,500,30).reshape(6,5)\n",
    "a"
   ]
  },
  {
   "cell_type": "code",
   "execution_count": 20,
   "id": "be35c3d5-d498-4ca9-82c3-14fe535f52fa",
   "metadata": {},
   "outputs": [
    {
     "data": {
      "text/plain": [
       "array([[302]])"
      ]
     },
     "execution_count": 20,
     "metadata": {},
     "output_type": "execute_result"
    }
   ],
   "source": [
    "a[3:4,2:3]"
   ]
  },
  {
   "cell_type": "code",
   "execution_count": 21,
   "id": "9f94d971-e6eb-4653-a898-593d55f4c056",
   "metadata": {},
   "outputs": [
    {
     "data": {
      "text/plain": [
       "array([False, False, False, False, False, False, False, False, False,\n",
       "       False,  True,  True,  True,  True,  True])"
      ]
     },
     "execution_count": 21,
     "metadata": {},
     "output_type": "execute_result"
    }
   ],
   "source": [
    "arr=np.arange(1,16)\n",
    "arr2=np.arange(1,16)\n",
    "arr\n",
    "arr>10"
   ]
  },
  {
   "cell_type": "code",
   "execution_count": 22,
   "id": "1b9674b2-d79f-4e61-a173-5226e01121e2",
   "metadata": {},
   "outputs": [
    {
     "data": {
      "text/plain": [
       "array([ 2,  4,  6,  8, 10, 12, 14, 16, 18, 20, 22, 24, 26, 28, 30])"
      ]
     },
     "execution_count": 22,
     "metadata": {},
     "output_type": "execute_result"
    }
   ],
   "source": [
    "arr3=arr+arr2\n",
    "arr3"
   ]
  },
  {
   "cell_type": "code",
   "execution_count": 23,
   "id": "7e91b24a-e207-4725-8c20-83e23d4eb29d",
   "metadata": {},
   "outputs": [
    {
     "data": {
      "text/plain": [
       "array([[19, 22],\n",
       "       [43, 50]])"
      ]
     },
     "execution_count": 23,
     "metadata": {},
     "output_type": "execute_result"
    }
   ],
   "source": [
    "a=np.array([1,2,3,4]).reshape(2,2)\n",
    "b=np.array([5,6,7,8]).reshape(2,2)\n",
    "a.dot(b)"
   ]
  },
  {
   "cell_type": "code",
   "execution_count": 24,
   "id": "26ed2925-2f54-4968-8484-e13e878a044d",
   "metadata": {},
   "outputs": [
    {
     "data": {
      "text/plain": [
       "14"
      ]
     },
     "execution_count": 24,
     "metadata": {},
     "output_type": "execute_result"
    }
   ],
   "source": [
    "np.argmax(arr3)"
   ]
  },
  {
   "cell_type": "code",
   "execution_count": 25,
   "id": "769936ea-006b-45db-97c3-59fd97d43724",
   "metadata": {},
   "outputs": [
    {
     "data": {
      "text/plain": [
       "array([1.  , 1.25, 1.5 , 1.75, 2.  ])"
      ]
     },
     "execution_count": 25,
     "metadata": {},
     "output_type": "execute_result"
    }
   ],
   "source": [
    "np.linspace(1,2,5)"
   ]
  },
  {
   "cell_type": "code",
   "execution_count": 26,
   "id": "70546f35-2191-41c5-9ec8-7e5408c9a09b",
   "metadata": {},
   "outputs": [
    {
     "data": {
      "text/plain": [
       "array([[16, 11, 13],\n",
       "       [17, 13, 16],\n",
       "       [ 3, 16, 11]])"
      ]
     },
     "execution_count": 26,
     "metadata": {},
     "output_type": "execute_result"
    }
   ],
   "source": [
    "np.random.seed(122)\n",
    "matrix=np.random.randint(1,21,9).reshape(3,3)\n",
    "matrix\n"
   ]
  },
  {
   "cell_type": "code",
   "execution_count": 27,
   "id": "5db523d1-4955-4707-a64b-46e37f9469c4",
   "metadata": {},
   "outputs": [
    {
     "data": {
      "text/plain": [
       "116"
      ]
     },
     "execution_count": 27,
     "metadata": {},
     "output_type": "execute_result"
    }
   ],
   "source": [
    "np.sum(matrix)"
   ]
  },
  {
   "cell_type": "code",
   "execution_count": 28,
   "id": "4c4515a6-8273-416f-95ca-c825f14cfb95",
   "metadata": {},
   "outputs": [
    {
     "data": {
      "text/plain": [
       "array([11, 13,  3])"
      ]
     },
     "execution_count": 28,
     "metadata": {},
     "output_type": "execute_result"
    }
   ],
   "source": [
    "np.min(matrix,axis=1)\n"
   ]
  },
  {
   "cell_type": "code",
   "execution_count": 29,
   "id": "03959826-a4fc-4e21-9598-f27a1e9456c9",
   "metadata": {},
   "outputs": [
    {
     "data": {
      "text/plain": [
       "array([ 3, 13,  2,  9, 11,  8,  1, 15, 14, 12,  5,  4,  7, 10,  6])"
      ]
     },
     "execution_count": 29,
     "metadata": {},
     "output_type": "execute_result"
    }
   ],
   "source": [
    "np.random.shuffle(arr)\n",
    "arr"
   ]
  },
  {
   "cell_type": "code",
   "execution_count": 30,
   "id": "ac5cbb84-cbb8-4fa2-9ad5-5abaf433d6d3",
   "metadata": {},
   "outputs": [
    {
     "data": {
      "text/plain": [
       "array([ 1,  2,  3,  4,  5,  6,  7,  8,  9, 10, 11, 12, 13, 14, 15])"
      ]
     },
     "execution_count": 30,
     "metadata": {},
     "output_type": "execute_result"
    }
   ],
   "source": [
    "np.unique(arr)"
   ]
  },
  {
   "cell_type": "code",
   "execution_count": 31,
   "id": "0e50ff75-2c69-4a15-ab2e-2facb9b4e8bc",
   "metadata": {},
   "outputs": [
    {
     "data": {
      "text/plain": [
       "(array([1, 2, 3, 4, 5]),\n",
       " array([0, 1, 2, 3, 6], dtype=int64),\n",
       " array([2, 2, 1, 1, 1], dtype=int64))"
      ]
     },
     "execution_count": 31,
     "metadata": {},
     "output_type": "execute_result"
    }
   ],
   "source": [
    "arr=np.array([1,2,3,4,1,2,5])\n",
    "np.unique(arr,return_index=True,return_counts=True)"
   ]
  },
  {
   "cell_type": "code",
   "execution_count": 32,
   "id": "4f935347-062d-462f-acca-733400661ded",
   "metadata": {},
   "outputs": [
    {
     "data": {
      "text/plain": [
       "array([1, 2, 3, 4, 5, 6, 7, 8])"
      ]
     },
     "execution_count": 32,
     "metadata": {},
     "output_type": "execute_result"
    }
   ],
   "source": [
    "arr1=np.array([1,2,3,4])\n",
    "arr2=np.array([5,6,7,8])\n",
    "np.hstack((arr1,arr2))"
   ]
  },
  {
   "cell_type": "code",
   "execution_count": 33,
   "id": "cd8a2d9f-489e-4cb2-a269-641debe0105f",
   "metadata": {},
   "outputs": [
    {
     "data": {
      "text/plain": [
       "array([1, 2, 3])"
      ]
     },
     "execution_count": 33,
     "metadata": {},
     "output_type": "execute_result"
    }
   ],
   "source": [
    "import numpy as np\n",
    "arr=np.array([1,2,3])\n",
    "arr"
   ]
  },
  {
   "cell_type": "code",
   "execution_count": 34,
   "id": "1913992c-f331-44c7-aeae-028e94d6638e",
   "metadata": {},
   "outputs": [
    {
     "data": {
      "text/plain": [
       "array([16, 16, 10, 15, 18, 17, 10, 18, 19])"
      ]
     },
     "execution_count": 34,
     "metadata": {},
     "output_type": "execute_result"
    }
   ],
   "source": [
    "arr2=np.random.randint(10,20,9)\n",
    "arr2"
   ]
  },
  {
   "cell_type": "code",
   "execution_count": 35,
   "id": "e507fb06-5e86-4972-97be-c35d8e9db393",
   "metadata": {},
   "outputs": [
    {
     "data": {
      "text/plain": [
       "array([[16, 16, 10],\n",
       "       [15, 18, 17],\n",
       "       [10, 18, 19]])"
      ]
     },
     "execution_count": 35,
     "metadata": {},
     "output_type": "execute_result"
    }
   ],
   "source": [
    "np.array(arr2).reshape(3,3)"
   ]
  },
  {
   "cell_type": "code",
   "execution_count": 36,
   "id": "56713142-aeee-492d-a880-55e6039f5336",
   "metadata": {},
   "outputs": [
    {
     "data": {
      "text/plain": [
       "array([1, 0, 3, 0, 5, 0, 7, 0, 9, 0])"
      ]
     },
     "execution_count": 36,
     "metadata": {},
     "output_type": "execute_result"
    }
   ],
   "source": [
    "arr3=np.arange(1,11)\n",
    "arr3[arr3%2==0]=0\n",
    "arr3"
   ]
  },
  {
   "cell_type": "code",
   "execution_count": 37,
   "id": "d73d44c4-2b64-4de8-9e3e-f7d5c86454c0",
   "metadata": {},
   "outputs": [
    {
     "data": {
      "text/plain": [
       "array([[0.37040662, 0.72482967, 0.34418396, 0.52770975],\n",
       "       [0.87016427, 0.77298345, 0.9194153 , 0.7367942 ],\n",
       "       [0.59016108, 0.05045466, 0.12938629, 0.03830208],\n",
       "       [0.62472171, 0.02822038, 0.08221784, 0.67347501]])"
      ]
     },
     "execution_count": 37,
     "metadata": {},
     "output_type": "execute_result"
    }
   ],
   "source": [
    "arr4=np.random.rand(4,4)\n",
    "arr4"
   ]
  },
  {
   "cell_type": "code",
   "execution_count": 38,
   "id": "1e0644ec-22db-4792-8937-9ea34712faea",
   "metadata": {},
   "outputs": [
    {
     "data": {
      "text/plain": [
       "array([[ 1,  2,  3,  4],\n",
       "       [ 5,  6,  7,  8],\n",
       "       [ 9, 10, 11, 12],\n",
       "       [13, 14, 15, 16]])"
      ]
     },
     "execution_count": 38,
     "metadata": {},
     "output_type": "execute_result"
    }
   ],
   "source": [
    "arr5=np.arange(1,17).reshape(4,4)\n",
    "arr5"
   ]
  },
  {
   "cell_type": "code",
   "execution_count": 39,
   "id": "35c2920b-734b-43b1-babd-066f8cad441e",
   "metadata": {},
   "outputs": [
    {
     "data": {
      "text/plain": [
       "array([[ 6,  7],\n",
       "       [10, 11],\n",
       "       [14, 15]])"
      ]
     },
     "execution_count": 39,
     "metadata": {},
     "output_type": "execute_result"
    }
   ],
   "source": [
    "arr5[1:,1:3]"
   ]
  },
  {
   "cell_type": "code",
   "execution_count": 40,
   "id": "f94ca1ad-22e9-4b3a-bbd4-d55c2a37bc4e",
   "metadata": {},
   "outputs": [
    {
     "data": {
      "text/plain": [
       "array([[ 0.37040662,  0.72482967,  0.34418396,  0.52770975,  1.        ,\n",
       "         2.        ,  3.        ,  4.        ],\n",
       "       [ 0.87016427,  0.77298345,  0.9194153 ,  0.7367942 ,  5.        ,\n",
       "         6.        ,  7.        ,  8.        ],\n",
       "       [ 0.59016108,  0.05045466,  0.12938629,  0.03830208,  9.        ,\n",
       "        10.        , 11.        , 12.        ],\n",
       "       [ 0.62472171,  0.02822038,  0.08221784,  0.67347501, 13.        ,\n",
       "        14.        , 15.        , 16.        ]])"
      ]
     },
     "execution_count": 40,
     "metadata": {},
     "output_type": "execute_result"
    }
   ],
   "source": [
    "np.hstack((arr4,arr5))\n"
   ]
  },
  {
   "cell_type": "code",
   "execution_count": 41,
   "id": "4986796a-65f9-4435-804d-1f1f8f28a8c3",
   "metadata": {},
   "outputs": [
    {
     "data": {
      "text/plain": [
       "array([[ 0.37040662,  0.72482967,  0.34418396,  0.52770975],\n",
       "       [ 0.87016427,  0.77298345,  0.9194153 ,  0.7367942 ],\n",
       "       [ 0.59016108,  0.05045466,  0.12938629,  0.03830208],\n",
       "       [ 0.62472171,  0.02822038,  0.08221784,  0.67347501],\n",
       "       [ 1.        ,  2.        ,  3.        ,  4.        ],\n",
       "       [ 5.        ,  6.        ,  7.        ,  8.        ],\n",
       "       [ 9.        , 10.        , 11.        , 12.        ],\n",
       "       [13.        , 14.        , 15.        , 16.        ]])"
      ]
     },
     "execution_count": 41,
     "metadata": {},
     "output_type": "execute_result"
    }
   ],
   "source": [
    "np.vstack((arr4,arr5))\n"
   ]
  },
  {
   "cell_type": "code",
   "execution_count": 42,
   "id": "aab34e09-7446-4d67-ba5d-ac6229e42bc9",
   "metadata": {},
   "outputs": [
    {
     "name": "stdout",
     "output_type": "stream",
     "text": [
      "2.48 μs ± 483 ns per loop (mean ± std. dev. of 7 runs, 100,000 loops each)\n"
     ]
    }
   ],
   "source": [
    "%timeit [i**2 for i in range(1,11)]"
   ]
  },
  {
   "cell_type": "code",
   "execution_count": 43,
   "id": "371a6726-5141-45f3-9f35-d902d066036c",
   "metadata": {},
   "outputs": [
    {
     "name": "stdout",
     "output_type": "stream",
     "text": [
      "3.57 μs ± 419 ns per loop (mean ± std. dev. of 7 runs, 100,000 loops each)\n"
     ]
    }
   ],
   "source": [
    "import numpy as ns\n",
    "%timeit ns.arange(1,11)**2"
   ]
  },
  {
   "cell_type": "code",
   "execution_count": 87,
   "id": "ee125559-be22-4c83-b04a-db9bd7ed979e",
   "metadata": {},
   "outputs": [
    {
     "name": "stdout",
     "output_type": "stream",
     "text": [
      "(array([3, 5, 6], dtype=int64),)\n"
     ]
    }
   ],
   "source": [
    "arr6=np.array([10,20,30,40,50,40,40])\n",
    "x=np.where(arr6==40)\n",
    "print(x)"
   ]
  },
  {
   "cell_type": "code",
   "execution_count": 91,
   "id": "d4f58f59-5c72-4ae4-a4df-0403eee1d24b",
   "metadata": {},
   "outputs": [
    {
     "name": "stdout",
     "output_type": "stream",
     "text": [
      "2\n"
     ]
    }
   ],
   "source": [
    "arr7=np.array([2,5,8,9,13])\n",
    "x=np.searchsorted(arr7,7)\n",
    "print(x)"
   ]
  },
  {
   "cell_type": "code",
   "execution_count": null,
   "id": "4a929109-fbad-4e53-b382-b43ae867cff9",
   "metadata": {},
   "outputs": [],
   "source": []
  }
 ],
 "metadata": {
  "kernelspec": {
   "display_name": "Python [conda env:base] *",
   "language": "python",
   "name": "conda-base-py"
  },
  "language_info": {
   "codemirror_mode": {
    "name": "ipython",
    "version": 3
   },
   "file_extension": ".py",
   "mimetype": "text/x-python",
   "name": "python",
   "nbconvert_exporter": "python",
   "pygments_lexer": "ipython3",
   "version": "3.12.7"
  }
 },
 "nbformat": 4,
 "nbformat_minor": 5
}

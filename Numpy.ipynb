{
 "cells": [
  {
   "cell_type": "markdown",
   "id": "e29049c6-c170-4199-bd84-a1766cbed78a",
   "metadata": {},
   "source": [
    "#Importing library"
   ]
  },
  {
   "cell_type": "code",
   "execution_count": 342,
   "id": "29983fba-9a37-4f37-9aff-5e27af89724b",
   "metadata": {},
   "outputs": [],
   "source": [
    "import numpy as np"
   ]
  },
  {
   "cell_type": "markdown",
   "id": "79e77e2e-4535-41b2-bf85-f36888963bd7",
   "metadata": {},
   "source": [
    "Array Attributes"
   ]
  },
  {
   "cell_type": "code",
   "execution_count": 344,
   "id": "1d547647-402d-41f4-88ae-4f5709a16b96",
   "metadata": {},
   "outputs": [],
   "source": [
    "a=np.array([1,2,3])"
   ]
  },
  {
   "cell_type": "code",
   "execution_count": 345,
   "id": "2459cc7a-a05f-46d6-a6c7-11526404ab93",
   "metadata": {},
   "outputs": [
    {
     "data": {
      "text/plain": [
       "array([1, 2, 3])"
      ]
     },
     "execution_count": 345,
     "metadata": {},
     "output_type": "execute_result"
    }
   ],
   "source": [
    "a"
   ]
  },
  {
   "cell_type": "code",
   "execution_count": 346,
   "id": "040ccea9-c535-497c-8007-3a86c7fc10da",
   "metadata": {},
   "outputs": [
    {
     "data": {
      "text/plain": [
       "numpy.ndarray"
      ]
     },
     "execution_count": 346,
     "metadata": {},
     "output_type": "execute_result"
    }
   ],
   "source": [
    "type(a)"
   ]
  },
  {
   "cell_type": "code",
   "execution_count": 347,
   "id": "75121b5c-cfdc-4180-b563-362f8cb97b75",
   "metadata": {},
   "outputs": [
    {
     "data": {
      "text/plain": [
       "(3,)"
      ]
     },
     "execution_count": 347,
     "metadata": {},
     "output_type": "execute_result"
    }
   ],
   "source": [
    "a.shape"
   ]
  },
  {
   "cell_type": "code",
   "execution_count": 348,
   "id": "2c62ea29-aa4b-49d6-9da0-52b7ea60f3b6",
   "metadata": {},
   "outputs": [
    {
     "data": {
      "text/plain": [
       "1"
      ]
     },
     "execution_count": 348,
     "metadata": {},
     "output_type": "execute_result"
    }
   ],
   "source": [
    "a.ndim"
   ]
  },
  {
   "cell_type": "code",
   "execution_count": 349,
   "id": "c09e089f-0d01-4c62-a997-913002f2ddc2",
   "metadata": {},
   "outputs": [],
   "source": [
    "b=np.array([[1,2,3],[4,5,6]])"
   ]
  },
  {
   "cell_type": "code",
   "execution_count": 350,
   "id": "96810201-f8d0-49fa-a6ba-6dcb2ea31a09",
   "metadata": {},
   "outputs": [
    {
     "data": {
      "text/plain": [
       "array([[1, 2, 3],\n",
       "       [4, 5, 6]])"
      ]
     },
     "execution_count": 350,
     "metadata": {},
     "output_type": "execute_result"
    }
   ],
   "source": [
    "b"
   ]
  },
  {
   "cell_type": "code",
   "execution_count": 351,
   "id": "8c131fa4-f980-4cb7-acdb-5f429c131dba",
   "metadata": {},
   "outputs": [
    {
     "data": {
      "text/plain": [
       "numpy.ndarray"
      ]
     },
     "execution_count": 351,
     "metadata": {},
     "output_type": "execute_result"
    }
   ],
   "source": [
    "type(b)\n"
   ]
  },
  {
   "cell_type": "code",
   "execution_count": 352,
   "id": "a79af5f9-29c9-49fb-b855-2e735297ee59",
   "metadata": {},
   "outputs": [
    {
     "data": {
      "text/plain": [
       "(2, 3)"
      ]
     },
     "execution_count": 352,
     "metadata": {},
     "output_type": "execute_result"
    }
   ],
   "source": [
    "b.shape"
   ]
  },
  {
   "cell_type": "code",
   "execution_count": 353,
   "id": "c42a6d7d-588c-4a57-a06f-2b486acdc487",
   "metadata": {},
   "outputs": [
    {
     "data": {
      "text/plain": [
       "2"
      ]
     },
     "execution_count": 353,
     "metadata": {},
     "output_type": "execute_result"
    }
   ],
   "source": [
    "b.ndim"
   ]
  },
  {
   "cell_type": "code",
   "execution_count": 354,
   "id": "0cabcdd4-fd8e-4704-a2d7-5493be7933a4",
   "metadata": {},
   "outputs": [
    {
     "data": {
      "text/plain": [
       "(dtype('int32'), dtype('int32'))"
      ]
     },
     "execution_count": 354,
     "metadata": {},
     "output_type": "execute_result"
    }
   ],
   "source": [
    "a.dtype,b.dtype"
   ]
  },
  {
   "cell_type": "code",
   "execution_count": 355,
   "id": "98f16511-2ab2-4257-adfc-79b274af632e",
   "metadata": {},
   "outputs": [
    {
     "data": {
      "text/plain": [
       "3"
      ]
     },
     "execution_count": 355,
     "metadata": {},
     "output_type": "execute_result"
    }
   ],
   "source": [
    "a.size"
   ]
  },
  {
   "cell_type": "code",
   "execution_count": 356,
   "id": "4f5b6816-b5a9-46ef-88e3-775404619f7c",
   "metadata": {},
   "outputs": [
    {
     "data": {
      "text/plain": [
       "24"
      ]
     },
     "execution_count": 356,
     "metadata": {},
     "output_type": "execute_result"
    }
   ],
   "source": [
    "b.nbytes"
   ]
  },
  {
   "cell_type": "markdown",
   "id": "80d41158-4282-46bb-ad16-532f7600ec6f",
   "metadata": {},
   "source": [
    "# Array creation"
   ]
  },
  {
   "cell_type": "code",
   "execution_count": 358,
   "id": "b96a7f52-de36-4658-9d5b-e73a6ec4c689",
   "metadata": {},
   "outputs": [],
   "source": [
    "array1=np.array([1,3,4],dtype='int')"
   ]
  },
  {
   "cell_type": "code",
   "execution_count": 359,
   "id": "315b1be4-a628-4efd-a9d9-0235a604474a",
   "metadata": {},
   "outputs": [
    {
     "data": {
      "text/plain": [
       "array([1, 3, 4])"
      ]
     },
     "execution_count": 359,
     "metadata": {},
     "output_type": "execute_result"
    }
   ],
   "source": [
    "array1"
   ]
  },
  {
   "cell_type": "code",
   "execution_count": 360,
   "id": "370bf90c-9bfb-464b-83db-7cc7f3e4c171",
   "metadata": {},
   "outputs": [],
   "source": [
    "zeros1=np.zeros((2,2),dtype='float')"
   ]
  },
  {
   "cell_type": "code",
   "execution_count": 361,
   "id": "2e9a2b27-4576-4a9e-a89f-854a43d74afe",
   "metadata": {},
   "outputs": [
    {
     "data": {
      "text/plain": [
       "array([[0., 0.],\n",
       "       [0., 0.]])"
      ]
     },
     "execution_count": 361,
     "metadata": {},
     "output_type": "execute_result"
    }
   ],
   "source": [
    "zeros1"
   ]
  },
  {
   "cell_type": "code",
   "execution_count": 362,
   "id": "55a5c78f-96e7-4660-9a2c-60f49cf6890b",
   "metadata": {},
   "outputs": [],
   "source": [
    "ones1=np.ones((3,3),dtype='int')"
   ]
  },
  {
   "cell_type": "code",
   "execution_count": 363,
   "id": "3702a151-f1cc-466b-a0ed-394891ee5897",
   "metadata": {},
   "outputs": [
    {
     "data": {
      "text/plain": [
       "array([[1, 1, 1],\n",
       "       [1, 1, 1],\n",
       "       [1, 1, 1]])"
      ]
     },
     "execution_count": 363,
     "metadata": {},
     "output_type": "execute_result"
    }
   ],
   "source": [
    "ones1"
   ]
  },
  {
   "cell_type": "code",
   "execution_count": 364,
   "id": "2f3f8403-e78a-4d54-812a-a1899cd32eaa",
   "metadata": {},
   "outputs": [],
   "source": [
    "full1=np.full((2,3),4)"
   ]
  },
  {
   "cell_type": "code",
   "execution_count": 365,
   "id": "31fa4455-5b96-469a-9a33-5de14777962e",
   "metadata": {},
   "outputs": [
    {
     "data": {
      "text/plain": [
       "array([[4, 4, 4],\n",
       "       [4, 4, 4]])"
      ]
     },
     "execution_count": 365,
     "metadata": {},
     "output_type": "execute_result"
    }
   ],
   "source": [
    "full1"
   ]
  },
  {
   "cell_type": "code",
   "execution_count": 366,
   "id": "57f3e0f9-d318-47cd-8113-8cf7baa9c457",
   "metadata": {},
   "outputs": [],
   "source": [
    "full2=np.full((3,2,3),4)"
   ]
  },
  {
   "cell_type": "code",
   "execution_count": 367,
   "id": "3fba30f9-9e9e-470d-a65b-49c524bb4a27",
   "metadata": {},
   "outputs": [
    {
     "data": {
      "text/plain": [
       "array([[[4, 4, 4],\n",
       "        [4, 4, 4]],\n",
       "\n",
       "       [[4, 4, 4],\n",
       "        [4, 4, 4]],\n",
       "\n",
       "       [[4, 4, 4],\n",
       "        [4, 4, 4]]])"
      ]
     },
     "execution_count": 367,
     "metadata": {},
     "output_type": "execute_result"
    }
   ],
   "source": [
    "full2"
   ]
  },
  {
   "cell_type": "code",
   "execution_count": 368,
   "id": "c9a4470f-2d2f-431e-ab2e-97ee5e8847fe",
   "metadata": {},
   "outputs": [],
   "source": [
    "identity1=np.identity(4,dtype='double')"
   ]
  },
  {
   "cell_type": "code",
   "execution_count": 369,
   "id": "84204504-346e-48e1-9807-f048b8372242",
   "metadata": {},
   "outputs": [
    {
     "data": {
      "text/plain": [
       "array([[1., 0., 0., 0.],\n",
       "       [0., 1., 0., 0.],\n",
       "       [0., 0., 1., 0.],\n",
       "       [0., 0., 0., 1.]])"
      ]
     },
     "execution_count": 369,
     "metadata": {},
     "output_type": "execute_result"
    }
   ],
   "source": [
    "identity1"
   ]
  },
  {
   "cell_type": "code",
   "execution_count": 370,
   "id": "d80959a5-643c-4994-89ee-a4109c17fcb2",
   "metadata": {},
   "outputs": [],
   "source": [
    "eye1=np.eye(4,4,-1)"
   ]
  },
  {
   "cell_type": "code",
   "execution_count": 371,
   "id": "2289c86d-194d-415b-bcc2-42b29efe912a",
   "metadata": {},
   "outputs": [
    {
     "data": {
      "text/plain": [
       "array([[0., 0., 0., 0.],\n",
       "       [1., 0., 0., 0.],\n",
       "       [0., 1., 0., 0.],\n",
       "       [0., 0., 1., 0.]])"
      ]
     },
     "execution_count": 371,
     "metadata": {},
     "output_type": "execute_result"
    }
   ],
   "source": [
    "eye1"
   ]
  },
  {
   "cell_type": "code",
   "execution_count": 372,
   "id": "fe054848-b0f9-481a-a285-775c6430ea02",
   "metadata": {},
   "outputs": [],
   "source": [
    "arange1=np.arange(1,10,3)\n"
   ]
  },
  {
   "cell_type": "code",
   "execution_count": 373,
   "id": "c3a6fcbb-98a5-4267-b5eb-4263555f0dd6",
   "metadata": {},
   "outputs": [
    {
     "data": {
      "text/plain": [
       "array([1, 4, 7])"
      ]
     },
     "execution_count": 373,
     "metadata": {},
     "output_type": "execute_result"
    }
   ],
   "source": [
    "arange1"
   ]
  },
  {
   "cell_type": "code",
   "execution_count": 374,
   "id": "fdf903c6-dfec-4582-bd88-e0b2dbd93496",
   "metadata": {},
   "outputs": [],
   "source": [
    "linspace1=np.linspace(1,15,20)"
   ]
  },
  {
   "cell_type": "code",
   "execution_count": 375,
   "id": "c25ef5d7-de48-4deb-ba74-31da353ff100",
   "metadata": {},
   "outputs": [
    {
     "data": {
      "text/plain": [
       "array([ 1.        ,  1.73684211,  2.47368421,  3.21052632,  3.94736842,\n",
       "        4.68421053,  5.42105263,  6.15789474,  6.89473684,  7.63157895,\n",
       "        8.36842105,  9.10526316,  9.84210526, 10.57894737, 11.31578947,\n",
       "       12.05263158, 12.78947368, 13.52631579, 14.26315789, 15.        ])"
      ]
     },
     "execution_count": 375,
     "metadata": {},
     "output_type": "execute_result"
    }
   ],
   "source": [
    "linspace1"
   ]
  },
  {
   "cell_type": "code",
   "execution_count": 376,
   "id": "05faeef2-59d1-4d56-9afb-7c424a3ee069",
   "metadata": {},
   "outputs": [
    {
     "data": {
      "text/plain": [
       "20"
      ]
     },
     "execution_count": 376,
     "metadata": {},
     "output_type": "execute_result"
    }
   ],
   "source": [
    "linspace1.size"
   ]
  },
  {
   "cell_type": "code",
   "execution_count": 377,
   "id": "86ff298b-ecfb-4470-ad6b-eb783e48713b",
   "metadata": {},
   "outputs": [],
   "source": [
    "empty=np.empty((1,5))"
   ]
  },
  {
   "cell_type": "code",
   "execution_count": 378,
   "id": "0840fe12-6c1a-42f5-89e0-758cf20c0453",
   "metadata": {},
   "outputs": [
    {
     "data": {
      "text/plain": [
       "array([[0., 1., 2., 3., 4.]])"
      ]
     },
     "execution_count": 378,
     "metadata": {},
     "output_type": "execute_result"
    }
   ],
   "source": [
    "empty"
   ]
  },
  {
   "cell_type": "code",
   "execution_count": 379,
   "id": "4bd139f9-e294-4dab-a452-42d424b5365a",
   "metadata": {},
   "outputs": [
    {
     "data": {
      "text/plain": [
       "array([[0., 1., 2., 3., 4.]])"
      ]
     },
     "execution_count": 379,
     "metadata": {},
     "output_type": "execute_result"
    }
   ],
   "source": [
    "for i in range(5):\n",
    "    empty[:,i]=i\n",
    "empty    "
   ]
  },
  {
   "cell_type": "markdown",
   "id": "13111ad3-4e99-4dea-af52-3dbcc806abd6",
   "metadata": {},
   "source": [
    "# Array indexing and slicing"
   ]
  },
  {
   "cell_type": "code",
   "execution_count": 381,
   "id": "456dc74a-564c-4ed2-aac8-f3bb5a7f4dd4",
   "metadata": {},
   "outputs": [],
   "source": [
    "arr1=np.array([1,2,3,4,5])"
   ]
  },
  {
   "cell_type": "code",
   "execution_count": 382,
   "id": "7a8306af-c88c-46ad-945e-af32899afdd7",
   "metadata": {},
   "outputs": [
    {
     "name": "stdout",
     "output_type": "stream",
     "text": [
      "[1 2 3 4 5]\n"
     ]
    }
   ],
   "source": [
    "print(arr1)"
   ]
  },
  {
   "cell_type": "code",
   "execution_count": 383,
   "id": "4f25351e-9feb-404e-9223-52f6f8707498",
   "metadata": {},
   "outputs": [
    {
     "data": {
      "text/plain": [
       "1"
      ]
     },
     "execution_count": 383,
     "metadata": {},
     "output_type": "execute_result"
    }
   ],
   "source": [
    "arr1[0]"
   ]
  },
  {
   "cell_type": "code",
   "execution_count": 384,
   "id": "5c2cff42-ce6c-4808-b2e8-354e0be94bf3",
   "metadata": {},
   "outputs": [
    {
     "data": {
      "text/plain": [
       "4"
      ]
     },
     "execution_count": 384,
     "metadata": {},
     "output_type": "execute_result"
    }
   ],
   "source": [
    "arr1[-2]"
   ]
  },
  {
   "cell_type": "code",
   "execution_count": 385,
   "id": "b71d5cb3-3cd9-43c4-91ce-823a9c180fd4",
   "metadata": {},
   "outputs": [],
   "source": [
    "arr2=np.random.randint(1,10,size=(3,4))"
   ]
  },
  {
   "cell_type": "code",
   "execution_count": 386,
   "id": "91384477-1779-435b-99db-eea39e336c64",
   "metadata": {},
   "outputs": [
    {
     "name": "stdout",
     "output_type": "stream",
     "text": [
      "[[6 8 8 7]\n",
      " [8 9 7 6]\n",
      " [9 2 1 1]]\n"
     ]
    }
   ],
   "source": [
    "print(arr2)"
   ]
  },
  {
   "cell_type": "code",
   "execution_count": 387,
   "id": "0deabd0d-b622-4f3a-8a30-62b7a38e8514",
   "metadata": {},
   "outputs": [
    {
     "data": {
      "text/plain": [
       "7"
      ]
     },
     "execution_count": 387,
     "metadata": {},
     "output_type": "execute_result"
    }
   ],
   "source": [
    "arr2[0][3]"
   ]
  },
  {
   "cell_type": "code",
   "execution_count": 388,
   "id": "bbb6f3c1-3d8d-42d0-a781-23210b0f8794",
   "metadata": {},
   "outputs": [
    {
     "data": {
      "text/plain": [
       "7"
      ]
     },
     "execution_count": 388,
     "metadata": {},
     "output_type": "execute_result"
    }
   ],
   "source": [
    " arr2[0,3]"
   ]
  },
  {
   "cell_type": "code",
   "execution_count": 389,
   "id": "0283b44e-6a8e-4b6e-be15-e396003f94b2",
   "metadata": {},
   "outputs": [],
   "source": [
    "arr3=np.random.randint(1,20,size=(3,3,4))"
   ]
  },
  {
   "cell_type": "code",
   "execution_count": 390,
   "id": "256ad488-b7ed-42f4-b582-4f4949777c66",
   "metadata": {},
   "outputs": [
    {
     "data": {
      "text/plain": [
       "array([[[10, 17,  1, 11],\n",
       "        [11, 12, 14, 19],\n",
       "        [10,  3, 19, 18]],\n",
       "\n",
       "       [[19, 19, 14,  7],\n",
       "        [14,  6,  4, 16],\n",
       "        [15,  3,  4,  5]],\n",
       "\n",
       "       [[10, 16,  4, 19],\n",
       "        [12,  6,  3, 11],\n",
       "        [ 2, 11,  4,  6]]])"
      ]
     },
     "execution_count": 390,
     "metadata": {},
     "output_type": "execute_result"
    }
   ],
   "source": [
    "arr3"
   ]
  },
  {
   "cell_type": "code",
   "execution_count": 391,
   "id": "c81dae51-29f4-4552-a8d0-368b48cfae28",
   "metadata": {},
   "outputs": [
    {
     "data": {
      "text/plain": [
       "6"
      ]
     },
     "execution_count": 391,
     "metadata": {},
     "output_type": "execute_result"
    }
   ],
   "source": [
    "arr3[2,1,1]"
   ]
  },
  {
   "cell_type": "markdown",
   "id": "18369ccf-7593-45aa-9702-13d66dfcad1e",
   "metadata": {},
   "source": [
    "# Slicing"
   ]
  },
  {
   "cell_type": "code",
   "execution_count": 393,
   "id": "003834be-471e-4540-9bc2-2e5f185a2936",
   "metadata": {},
   "outputs": [
    {
     "name": "stdout",
     "output_type": "stream",
     "text": [
      "[1 2 3 4 5]\n"
     ]
    }
   ],
   "source": [
    "print(arr1)"
   ]
  },
  {
   "cell_type": "code",
   "execution_count": 394,
   "id": "56b291b5-6d39-466b-a947-683b9f660818",
   "metadata": {},
   "outputs": [
    {
     "name": "stdout",
     "output_type": "stream",
     "text": [
      "[2 3 4]\n"
     ]
    }
   ],
   "source": [
    "print(arr1[1:4])"
   ]
  },
  {
   "cell_type": "code",
   "execution_count": 395,
   "id": "01cc6c12-22b6-484e-88e9-150c7604bb9a",
   "metadata": {},
   "outputs": [
    {
     "data": {
      "text/plain": [
       "array([[6, 8, 8, 7],\n",
       "       [8, 9, 7, 6],\n",
       "       [9, 2, 1, 1]])"
      ]
     },
     "execution_count": 395,
     "metadata": {},
     "output_type": "execute_result"
    }
   ],
   "source": [
    "arr2"
   ]
  },
  {
   "cell_type": "code",
   "execution_count": 396,
   "id": "5dbb2868-1773-4c03-8e6e-9a28294c2804",
   "metadata": {},
   "outputs": [
    {
     "data": {
      "text/plain": [
       "array([[8, 8],\n",
       "       [9, 7]])"
      ]
     },
     "execution_count": 396,
     "metadata": {},
     "output_type": "execute_result"
    }
   ],
   "source": [
    "arr2[:2,1:3]"
   ]
  },
  {
   "cell_type": "code",
   "execution_count": 397,
   "id": "d60fbf01-542a-4062-b078-466dc55d9caf",
   "metadata": {},
   "outputs": [
    {
     "data": {
      "text/plain": [
       "array([[[10, 17,  1, 11],\n",
       "        [11, 12, 14, 19],\n",
       "        [10,  3, 19, 18]],\n",
       "\n",
       "       [[19, 19, 14,  7],\n",
       "        [14,  6,  4, 16],\n",
       "        [15,  3,  4,  5]],\n",
       "\n",
       "       [[10, 16,  4, 19],\n",
       "        [12,  6,  3, 11],\n",
       "        [ 2, 11,  4,  6]]])"
      ]
     },
     "execution_count": 397,
     "metadata": {},
     "output_type": "execute_result"
    }
   ],
   "source": [
    "arr3"
   ]
  },
  {
   "cell_type": "code",
   "execution_count": 398,
   "id": "19e24712-b2f6-4202-bfff-e6068af58269",
   "metadata": {},
   "outputs": [
    {
     "data": {
      "text/plain": [
       "array([[[19, 14],\n",
       "        [ 6,  4],\n",
       "        [ 3,  4]]])"
      ]
     },
     "execution_count": 398,
     "metadata": {},
     "output_type": "execute_result"
    }
   ],
   "source": [
    "arr3[1:2,0:3,1:3]"
   ]
  },
  {
   "cell_type": "markdown",
   "id": "e2f20f80-6fec-4384-9fd8-c6dc9401a9a0",
   "metadata": {},
   "source": [
    "# Manipilating array shapes\n",
    "### 1.reshape()\n",
    "### 2.resize()\n",
    "### 3.flatten()\n",
    "### 4. revel()\n",
    "### 5. defining array shape()"
   ]
  },
  {
   "cell_type": "markdown",
   "id": "7297304b-732d-4119-b4c8-82558a6588c3",
   "metadata": {},
   "source": [
    "### reshape"
   ]
  },
  {
   "cell_type": "code",
   "execution_count": 401,
   "id": "7cb3726d-b086-44d9-8d8b-1666ead0724a",
   "metadata": {},
   "outputs": [],
   "source": [
    "a=np.array([[1,2,3],[4,5,6]])"
   ]
  },
  {
   "cell_type": "code",
   "execution_count": 402,
   "id": "d4365555-8a4a-4b44-a8f3-6118546bb902",
   "metadata": {},
   "outputs": [
    {
     "data": {
      "text/plain": [
       "array([[1, 2, 3],\n",
       "       [4, 5, 6]])"
      ]
     },
     "execution_count": 402,
     "metadata": {},
     "output_type": "execute_result"
    }
   ],
   "source": [
    "a"
   ]
  },
  {
   "cell_type": "code",
   "execution_count": 403,
   "id": "0a9468a8-e4b6-495b-bc30-b30628b0b08b",
   "metadata": {},
   "outputs": [
    {
     "data": {
      "text/plain": [
       "(2, 3)"
      ]
     },
     "execution_count": 403,
     "metadata": {},
     "output_type": "execute_result"
    }
   ],
   "source": [
    "a.shape"
   ]
  },
  {
   "cell_type": "code",
   "execution_count": 404,
   "id": "76230989-c76c-46e0-b32a-aa64d9905295",
   "metadata": {},
   "outputs": [],
   "source": [
    "a_reshaped=np.reshape(a,(3,2))"
   ]
  },
  {
   "cell_type": "code",
   "execution_count": 405,
   "id": "67f7c8e9-7397-4c1b-b325-e3ff02cd42e3",
   "metadata": {},
   "outputs": [
    {
     "data": {
      "text/plain": [
       "array([[1, 2],\n",
       "       [3, 4],\n",
       "       [5, 6]])"
      ]
     },
     "execution_count": 405,
     "metadata": {},
     "output_type": "execute_result"
    }
   ],
   "source": [
    "a_reshaped"
   ]
  },
  {
   "cell_type": "markdown",
   "id": "9d00a819-9e01-4d54-a7c1-2726b5be0d6e",
   "metadata": {},
   "source": [
    "#### resize()"
   ]
  },
  {
   "cell_type": "code",
   "execution_count": 407,
   "id": "1e02e928-36d0-4e80-9f08-f746390fd3f2",
   "metadata": {},
   "outputs": [
    {
     "data": {
      "text/plain": [
       "array([[1, 2, 3],\n",
       "       [4, 5, 6]])"
      ]
     },
     "execution_count": 407,
     "metadata": {},
     "output_type": "execute_result"
    }
   ],
   "source": [
    "a"
   ]
  },
  {
   "cell_type": "code",
   "execution_count": 408,
   "id": "66b7e9ad-a32b-4558-bb02-e0e328bbef85",
   "metadata": {},
   "outputs": [],
   "source": [
    "a_resized=np.resize(a,(3,3))"
   ]
  },
  {
   "cell_type": "code",
   "execution_count": 409,
   "id": "221218f0-f146-4c11-b3ba-ad040fc2a82f",
   "metadata": {},
   "outputs": [
    {
     "data": {
      "text/plain": [
       "array([[1, 2, 3],\n",
       "       [4, 5, 6],\n",
       "       [1, 2, 3]])"
      ]
     },
     "execution_count": 409,
     "metadata": {},
     "output_type": "execute_result"
    }
   ],
   "source": [
    "a_resized"
   ]
  },
  {
   "cell_type": "markdown",
   "id": "ee2ae54d-d925-4eb7-884b-8e104378ac74",
   "metadata": {},
   "source": [
    "#### revel"
   ]
  },
  {
   "cell_type": "code",
   "execution_count": 411,
   "id": "8525f7ec-eb81-47e3-8964-ffa4ad037739",
   "metadata": {},
   "outputs": [
    {
     "data": {
      "text/plain": [
       "array([[1, 2, 3],\n",
       "       [4, 5, 6]])"
      ]
     },
     "execution_count": 411,
     "metadata": {},
     "output_type": "execute_result"
    }
   ],
   "source": [
    "a"
   ]
  },
  {
   "cell_type": "code",
   "execution_count": 412,
   "id": "a24b8218-cd37-411a-9b6d-f46938559860",
   "metadata": {},
   "outputs": [],
   "source": [
    "a1=np.random.randint(1,10,(2,3))"
   ]
  },
  {
   "cell_type": "code",
   "execution_count": 413,
   "id": "f07dacc2-b312-4e14-ac52-a017b20b7f2f",
   "metadata": {},
   "outputs": [
    {
     "data": {
      "text/plain": [
       "array([[9, 5, 9],\n",
       "       [4, 8, 3]])"
      ]
     },
     "execution_count": 413,
     "metadata": {},
     "output_type": "execute_result"
    }
   ],
   "source": [
    "a1"
   ]
  },
  {
   "cell_type": "code",
   "execution_count": 414,
   "id": "5ce799d3-11c4-4ebb-8071-256f814e8fa6",
   "metadata": {},
   "outputs": [],
   "source": [
    "a1_raveled=np.ravel(a1)"
   ]
  },
  {
   "cell_type": "code",
   "execution_count": 415,
   "id": "32a2c727-0f7f-45d1-97f4-a94555b9ae6b",
   "metadata": {},
   "outputs": [
    {
     "data": {
      "text/plain": [
       "array([9, 5, 9, 4, 8, 3])"
      ]
     },
     "execution_count": 415,
     "metadata": {},
     "output_type": "execute_result"
    }
   ],
   "source": [
    "a1_raveled"
   ]
  },
  {
   "cell_type": "code",
   "execution_count": 416,
   "id": "ba74d57a-72c0-4067-9f5a-b190ae79b690",
   "metadata": {},
   "outputs": [
    {
     "data": {
      "text/plain": [
       "(6,)"
      ]
     },
     "execution_count": 416,
     "metadata": {},
     "output_type": "execute_result"
    }
   ],
   "source": [
    "a1_raveled.shape"
   ]
  },
  {
   "cell_type": "code",
   "execution_count": 417,
   "id": "745d98c8-8978-47ab-a32c-ae62cab15d91",
   "metadata": {},
   "outputs": [],
   "source": [
    "a1_raveled[0]=0"
   ]
  },
  {
   "cell_type": "code",
   "execution_count": 418,
   "id": "36a63060-b41b-48e7-9e14-aadbea909863",
   "metadata": {},
   "outputs": [
    {
     "data": {
      "text/plain": [
       "array([0, 5, 9, 4, 8, 3])"
      ]
     },
     "execution_count": 418,
     "metadata": {},
     "output_type": "execute_result"
    }
   ],
   "source": [
    "a1_raveled"
   ]
  },
  {
   "cell_type": "code",
   "execution_count": 419,
   "id": "7be12926-7d90-4e9e-9b11-0aa0fdf17ab9",
   "metadata": {},
   "outputs": [
    {
     "data": {
      "text/plain": [
       "array([[0, 5, 9],\n",
       "       [4, 8, 3]])"
      ]
     },
     "execution_count": 419,
     "metadata": {},
     "output_type": "execute_result"
    }
   ],
   "source": [
    "a1"
   ]
  },
  {
   "cell_type": "markdown",
   "id": "d54377dc-a0f1-4403-afcf-87e2e6b3720d",
   "metadata": {},
   "source": [
    "#### flatten()\n"
   ]
  },
  {
   "cell_type": "code",
   "execution_count": 421,
   "id": "8df309f0-9417-4a1d-ab62-4c6ecb9a6d24",
   "metadata": {},
   "outputs": [
    {
     "data": {
      "text/plain": [
       "array([[0, 5, 9],\n",
       "       [4, 8, 3]])"
      ]
     },
     "execution_count": 421,
     "metadata": {},
     "output_type": "execute_result"
    }
   ],
   "source": [
    "a1"
   ]
  },
  {
   "cell_type": "code",
   "execution_count": 422,
   "id": "45fded1f-f5bd-4e79-8697-31ce90735431",
   "metadata": {},
   "outputs": [],
   "source": [
    "a1_flattened=a1.flatten()"
   ]
  },
  {
   "cell_type": "code",
   "execution_count": 423,
   "id": "8d46555e-41fc-48cb-a49f-c074c1b98e75",
   "metadata": {},
   "outputs": [
    {
     "data": {
      "text/plain": [
       "array([0, 5, 9, 4, 8, 3])"
      ]
     },
     "execution_count": 423,
     "metadata": {},
     "output_type": "execute_result"
    }
   ],
   "source": [
    "a1_flattened"
   ]
  },
  {
   "cell_type": "code",
   "execution_count": 424,
   "id": "e294fa8d-bb40-410c-9651-9572b3911b01",
   "metadata": {},
   "outputs": [],
   "source": [
    "    a1_flattened[0]=100"
   ]
  },
  {
   "cell_type": "code",
   "execution_count": 425,
   "id": "98d8d60c-36c0-404a-895a-178a16a675af",
   "metadata": {},
   "outputs": [
    {
     "data": {
      "text/plain": [
       "array([100,   5,   9,   4,   8,   3])"
      ]
     },
     "execution_count": 425,
     "metadata": {},
     "output_type": "execute_result"
    }
   ],
   "source": [
    "a1_flattened"
   ]
  },
  {
   "cell_type": "code",
   "execution_count": 426,
   "id": "76a5ffc1-4201-4a17-b4ab-20ae104e929d",
   "metadata": {},
   "outputs": [
    {
     "data": {
      "text/plain": [
       "array([[0, 5, 9],\n",
       "       [4, 8, 3]])"
      ]
     },
     "execution_count": 426,
     "metadata": {},
     "output_type": "execute_result"
    }
   ],
   "source": [
    "a1"
   ]
  },
  {
   "cell_type": "markdown",
   "id": "8ab6f6a8-d353-4785-93ab-f9d5c1874269",
   "metadata": {},
   "source": [
    "### defining an array shape"
   ]
  },
  {
   "cell_type": "code",
   "execution_count": 428,
   "id": "b344d39d-ed13-44ee-896e-d78fc2b100bd",
   "metadata": {},
   "outputs": [
    {
     "data": {
      "text/plain": [
       "array([[0, 5, 9],\n",
       "       [4, 8, 3]])"
      ]
     },
     "execution_count": 428,
     "metadata": {},
     "output_type": "execute_result"
    }
   ],
   "source": [
    "a1"
   ]
  },
  {
   "cell_type": "code",
   "execution_count": 429,
   "id": "a3bcba01-592e-4dd8-99de-4aae4d5eb2b5",
   "metadata": {},
   "outputs": [
    {
     "data": {
      "text/plain": [
       "array([[1, 2, 3],\n",
       "       [4, 5, 6]])"
      ]
     },
     "execution_count": 429,
     "metadata": {},
     "output_type": "execute_result"
    }
   ],
   "source": [
    "a"
   ]
  },
  {
   "cell_type": "code",
   "execution_count": 430,
   "id": "250da2cb-6080-4386-bdc5-ca4464f5db57",
   "metadata": {},
   "outputs": [],
   "source": [
    "a1.shape=(3,2)"
   ]
  },
  {
   "cell_type": "code",
   "execution_count": 431,
   "id": "0affda9c-13dc-4959-9b17-deea2896f3eb",
   "metadata": {},
   "outputs": [
    {
     "data": {
      "text/plain": [
       "array([[0, 5],\n",
       "       [9, 4],\n",
       "       [8, 3]])"
      ]
     },
     "execution_count": 431,
     "metadata": {},
     "output_type": "execute_result"
    }
   ],
   "source": [
    "a1"
   ]
  },
  {
   "cell_type": "markdown",
   "id": "1c3b7076-f0f2-484f-8455-78d915231f77",
   "metadata": {},
   "source": [
    "# Stacking\n",
    "\n",
    "## Horizontal"
   ]
  },
  {
   "cell_type": "code",
   "execution_count": 433,
   "id": "6996f138-7849-46b6-acaf-a2aa8d8c9d1e",
   "metadata": {},
   "outputs": [],
   "source": [
    "a=np.arange(1,10).reshape(3,3)"
   ]
  },
  {
   "cell_type": "code",
   "execution_count": 434,
   "id": "85fc7959-fc79-4618-bb03-3b7f0edbd500",
   "metadata": {},
   "outputs": [
    {
     "data": {
      "text/plain": [
       "array([[1, 2, 3],\n",
       "       [4, 5, 6],\n",
       "       [7, 8, 9]])"
      ]
     },
     "execution_count": 434,
     "metadata": {},
     "output_type": "execute_result"
    }
   ],
   "source": [
    "a"
   ]
  },
  {
   "cell_type": "code",
   "execution_count": 435,
   "id": "a70bab2c-50f8-490d-a758-71bd6f994722",
   "metadata": {},
   "outputs": [],
   "source": [
    "b=a*2"
   ]
  },
  {
   "cell_type": "code",
   "execution_count": 436,
   "id": "4ed91c59-a171-44bb-84a3-6f76f0b0847d",
   "metadata": {},
   "outputs": [
    {
     "data": {
      "text/plain": [
       "array([[ 2,  4,  6],\n",
       "       [ 8, 10, 12],\n",
       "       [14, 16, 18]])"
      ]
     },
     "execution_count": 436,
     "metadata": {},
     "output_type": "execute_result"
    }
   ],
   "source": [
    "b"
   ]
  },
  {
   "cell_type": "code",
   "execution_count": 437,
   "id": "9af4bf2c-59bb-46b4-bb78-c613d491397d",
   "metadata": {},
   "outputs": [],
   "source": [
    "c=b*2"
   ]
  },
  {
   "cell_type": "code",
   "execution_count": 438,
   "id": "c5c10391-c80d-4d9d-862e-0f7a98e631ac",
   "metadata": {},
   "outputs": [
    {
     "data": {
      "text/plain": [
       "array([[ 1,  2,  3,  2,  4,  6,  4,  8, 12],\n",
       "       [ 4,  5,  6,  8, 10, 12, 16, 20, 24],\n",
       "       [ 7,  8,  9, 14, 16, 18, 28, 32, 36]])"
      ]
     },
     "execution_count": 438,
     "metadata": {},
     "output_type": "execute_result"
    }
   ],
   "source": [
    "np.hstack((a,b,c))"
   ]
  },
  {
   "cell_type": "code",
   "execution_count": 439,
   "id": "2ae510f7-6652-4896-805e-4fe14c0d6b88",
   "metadata": {},
   "outputs": [
    {
     "data": {
      "text/plain": [
       "array([[ 1,  2,  3,  2,  4,  6],\n",
       "       [ 4,  5,  6,  8, 10, 12],\n",
       "       [ 7,  8,  9, 14, 16, 18]])"
      ]
     },
     "execution_count": 439,
     "metadata": {},
     "output_type": "execute_result"
    }
   ],
   "source": [
    "np.column_stack((a,b))"
   ]
  },
  {
   "cell_type": "code",
   "execution_count": 440,
   "id": "2dea167a-5064-4e95-b821-8dee91acbdb2",
   "metadata": {},
   "outputs": [
    {
     "data": {
      "text/plain": [
       "array([[ 1,  2,  3,  2,  4,  6],\n",
       "       [ 4,  5,  6,  8, 10, 12],\n",
       "       [ 7,  8,  9, 14, 16, 18]])"
      ]
     },
     "execution_count": 440,
     "metadata": {},
     "output_type": "execute_result"
    }
   ],
   "source": [
    "np.concatenate((a,b),axis=1)"
   ]
  },
  {
   "cell_type": "markdown",
   "id": "e92119fb-8f38-431c-88d9-1b94e156abd6",
   "metadata": {},
   "source": [
    "## Vertical"
   ]
  },
  {
   "cell_type": "code",
   "execution_count": 442,
   "id": "ade81af0-e129-4572-af75-e728006bb566",
   "metadata": {},
   "outputs": [
    {
     "data": {
      "text/plain": [
       "array([[ 1,  2,  3],\n",
       "       [ 4,  5,  6],\n",
       "       [ 7,  8,  9],\n",
       "       [ 2,  4,  6],\n",
       "       [ 8, 10, 12],\n",
       "       [14, 16, 18]])"
      ]
     },
     "execution_count": 442,
     "metadata": {},
     "output_type": "execute_result"
    }
   ],
   "source": [
    "np.vstack((a,b))"
   ]
  },
  {
   "cell_type": "code",
   "execution_count": 443,
   "id": "14ba6ba3-13ad-4080-ac73-1beedad43fcc",
   "metadata": {},
   "outputs": [
    {
     "data": {
      "text/plain": [
       "array([[ 1,  2,  3],\n",
       "       [ 4,  5,  6],\n",
       "       [ 7,  8,  9],\n",
       "       [ 2,  4,  6],\n",
       "       [ 8, 10, 12],\n",
       "       [14, 16, 18]])"
      ]
     },
     "execution_count": 443,
     "metadata": {},
     "output_type": "execute_result"
    }
   ],
   "source": [
    "np.row_stack((a,b))"
   ]
  },
  {
   "cell_type": "code",
   "execution_count": 444,
   "id": "a326c4fb-f542-4d08-bb7a-21d96eaec5d6",
   "metadata": {},
   "outputs": [
    {
     "data": {
      "text/plain": [
       "array([[ 1,  2,  3],\n",
       "       [ 4,  5,  6],\n",
       "       [ 7,  8,  9],\n",
       "       [ 2,  4,  6],\n",
       "       [ 8, 10, 12],\n",
       "       [14, 16, 18]])"
      ]
     },
     "execution_count": 444,
     "metadata": {},
     "output_type": "execute_result"
    }
   ],
   "source": [
    "np.concatenate((a,b),axis=0)"
   ]
  },
  {
   "cell_type": "markdown",
   "id": "f422c0c0-7cbc-42b6-9a61-52d4f7007a52",
   "metadata": {},
   "source": [
    "# Depth Stack"
   ]
  },
  {
   "cell_type": "code",
   "execution_count": 446,
   "id": "a8b10875-ccf8-4785-aa46-c49c92f09bad",
   "metadata": {},
   "outputs": [
    {
     "data": {
      "text/plain": [
       "array([[[ 1,  2],\n",
       "        [ 2,  4],\n",
       "        [ 3,  6]],\n",
       "\n",
       "       [[ 4,  8],\n",
       "        [ 5, 10],\n",
       "        [ 6, 12]],\n",
       "\n",
       "       [[ 7, 14],\n",
       "        [ 8, 16],\n",
       "        [ 9, 18]]])"
      ]
     },
     "execution_count": 446,
     "metadata": {},
     "output_type": "execute_result"
    }
   ],
   "source": [
    "np.dstack((a,b))"
   ]
  },
  {
   "cell_type": "code",
   "execution_count": null,
   "id": "f1790cd5-4f1c-4c09-815b-fb86322177e5",
   "metadata": {},
   "outputs": [],
   "source": []
  }
 ],
 "metadata": {
  "kernelspec": {
   "display_name": "Python [conda env:base] *",
   "language": "python",
   "name": "conda-base-py"
  },
  "language_info": {
   "codemirror_mode": {
    "name": "ipython",
    "version": 3
   },
   "file_extension": ".py",
   "mimetype": "text/x-python",
   "name": "python",
   "nbconvert_exporter": "python",
   "pygments_lexer": "ipython3",
   "version": "3.12.7"
  }
 },
 "nbformat": 4,
 "nbformat_minor": 5
}
